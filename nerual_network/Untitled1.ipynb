{
 "cells": [
  {
   "cell_type": "code",
   "execution_count": 1,
   "id": "cea90b4d",
   "metadata": {},
   "outputs": [],
   "source": [
    "from tensorflow import keras"
   ]
  },
  {
   "cell_type": "code",
   "execution_count": 2,
   "id": "3160fda3",
   "metadata": {},
   "outputs": [],
   "source": [
    "model = keras.models.load_model(\"model.h5\")"
   ]
  },
  {
   "cell_type": "code",
   "execution_count": 3,
   "id": "8038531a",
   "metadata": {},
   "outputs": [],
   "source": [
    "from numpy import array\n",
    "from tensorflow.keras.preprocessing.image import load_img, img_to_array\n",
    "def load_images(way: str, lst_of_name: list, flag: bool) -> array:\n",
    "\n",
    "    images = []\n",
    "    for name in lst_of_name:\n",
    "        image = load_img(join(way, name),\n",
    "                         color_mode=\"grayscale\",\n",
    "                         target_size=(1150, 180))\n",
    "        image = img_to_array(image) / 255\n",
    "        image = array(list(map(lambda x: [x[:30], x[30:60], x[60:90], x[90:120], x[120:150], x[150:]], list(image))))\n",
    "        i, j = 0, 23\n",
    "        for _ in range(50):\n",
    "            img_i = image[i:j]\n",
    "            imgs = [[]] * 6\n",
    "            imgs[0] = array(list(map(lambda x: x[0], img_i)))\n",
    "            imgs[1] = array(list(map(lambda x: x[1], img_i)))\n",
    "            imgs[2] = array(list(map(lambda x: x[2], img_i)))\n",
    "            imgs[3] = array(list(map(lambda x: x[3], img_i)))\n",
    "            imgs[4] = array(list(map(lambda x: x[4], img_i)))\n",
    "            imgs[5] = array(list(map(lambda x: x[5], img_i)))\n",
    "            \n",
    "            images.extend(imgs)\n",
    "            i += 23\n",
    "            j += 23\n",
    "\n",
    "    return array(images)"
   ]
  },
  {
   "cell_type": "code",
   "execution_count": 4,
   "id": "cd9f570b",
   "metadata": {},
   "outputs": [],
   "source": [
    "way_to_original_train = r\"E:\\folder_J\\images\\jpg\\train\\images_jpg\"\n",
    "way_to_edited_train = r\"E:\\folder_J\\images\\jpg\\train\\images_edited_jpg\""
   ]
  },
  {
   "cell_type": "code",
   "execution_count": 5,
   "id": "66b6161a",
   "metadata": {},
   "outputs": [],
   "source": [
    "from os import listdir\n",
    "images_name_train = listdir(way_to_original_train)[:1000]"
   ]
  },
  {
   "cell_type": "code",
   "execution_count": 6,
   "id": "ac7eacc5",
   "metadata": {},
   "outputs": [
    {
     "name": "stdout",
     "output_type": "stream",
     "text": [
      "finish\n"
     ]
    }
   ],
   "source": [
    "from os.path import join\n",
    "x_train = load_images(way_to_original_train, images_name_train, False)\n",
    "y_train = load_images(way_to_edited_train, images_name_train, True)\n",
    "print(\"finish\")"
   ]
  },
  {
   "cell_type": "code",
   "execution_count": null,
   "id": "387c7abd",
   "metadata": {},
   "outputs": [],
   "source": [
    "print(len(x_train), len(x_train[0]), len(x_train[0][0]))"
   ]
  },
  {
   "cell_type": "code",
   "execution_count": null,
   "id": "8243e4b5",
   "metadata": {},
   "outputs": [],
   "source": [
    "import numpy as np\n",
    "import tensorflow as tf\n",
    "from PIL import Image\n",
    "res_x = np.array(x_train[1258])\n",
    "res_x = np.reshape(res_x, (23, 30))\n",
    "print(*res_x, end=\"\\n\")\n",
    "for i in range(len(res)):\n",
    "    res_x[i] = np.array(list(map(lambda x: round(x * 255, 0), list(res_x[i]))))\n",
    "print(*res_x, end=\"\\n\")\n",
    "res = np.array(y_train[1258])\n",
    "res = np.reshape(res, (23, 30))\n",
    "for i in range(len(res)):\n",
    "    res[i] = np.array(list(map(lambda x: 100 if x > 0 else 0, list(res[i]))))\n",
    "res = np.array(res)\n",
    "res = np.reshape(res, (23, 30))\n",
    "i_res = Image.fromarray(res)\n",
    "i_res_x = Image.fromarray(res_x)\n",
    "i_res.show()\n",
    "i_res_x.show()"
   ]
  },
  {
   "cell_type": "code",
   "execution_count": null,
   "id": "863f584f",
   "metadata": {},
   "outputs": [
    {
     "name": "stdout",
     "output_type": "stream",
     "text": [
      "Epoch 1/2\n",
      "140/300 [=============>................] - ETA: 6:46 - loss: 0.0045 - mean_io_u: 5.7108e-04 - accuracy: 0.0011"
     ]
    }
   ],
   "source": [
    "his = model.fit(x_train, y_train, batch_size=1000, epochs=2)"
   ]
  },
  {
   "cell_type": "code",
   "execution_count": null,
   "id": "d442e730",
   "metadata": {},
   "outputs": [],
   "source": [
    "import numpy as np\n",
    "import tensorflow as tf\n",
    "from PIL import Image\n",
    "img = load_img(join(r\"E:\\folder_J\\images\\jpg\\train\\images_jpg\",images_name_train[1]),\n",
    "                         color_mode=\"grayscale\",\n",
    "                         target_size=(1150, 180))\n",
    "img = tf.expand_dims(img, axis=0)\n",
    "res = model.predict(img, batch_size=None)\n",
    "print(np.shape(res))\n",
    "res = np.array(res)\n",
    "res = np.reshape(res, (1150, 180))\n",
    "i_res = Image.fromarray(res)\n",
    "i_res.show()"
   ]
  },
  {
   "cell_type": "code",
   "execution_count": null,
   "id": "fdfd3719",
   "metadata": {},
   "outputs": [],
   "source": []
  }
 ],
 "metadata": {
  "kernelspec": {
   "display_name": "Python 3 (ipykernel)",
   "language": "python",
   "name": "python3"
  },
  "language_info": {
   "codemirror_mode": {
    "name": "ipython",
    "version": 3
   },
   "file_extension": ".py",
   "mimetype": "text/x-python",
   "name": "python",
   "nbconvert_exporter": "python",
   "pygments_lexer": "ipython3",
   "version": "3.9.0"
  }
 },
 "nbformat": 4,
 "nbformat_minor": 5
}
