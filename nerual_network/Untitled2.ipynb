{
 "cells": [
  {
   "cell_type": "code",
   "execution_count": 2,
   "id": "5fc1b99d",
   "metadata": {},
   "outputs": [],
   "source": [
    "from tensorflow import keras\n",
    "model = keras.models.load_model(\"model_u.h5\")"
   ]
  },
  {
   "cell_type": "code",
   "execution_count": 3,
   "id": "b3c1a932",
   "metadata": {},
   "outputs": [],
   "source": [
    "from numpy import array\n",
    "from os import listdir\n",
    "from os.path import join\n",
    "from tensorflow.keras.preprocessing.image import load_img, img_to_array\n",
    "\n",
    "\n",
    "# preparing data\n",
    "way_to_original_train = r\"E:\\folder_J\\images\\jpg\\train\\images_jpg\"\n",
    "way_to_edited_train = r\"E:\\folder_J\\images\\jpg\\train\\images_edited_jpg\"\n",
    "\n",
    "\n",
    "def load_images(way: str, lst_of_name: list) -> array:\n",
    "\n",
    "    images = []\n",
    "    for name in lst_of_name:\n",
    "        image = load_img(join(way, name),\n",
    "                         color_mode=\"grayscale\",\n",
    "                         target_size=(1150, 180))\n",
    "        image = img_to_array(image) / 255\n",
    "        images.append(image)\n",
    "\n",
    "    return array(images)"
   ]
  },
  {
   "cell_type": "code",
   "execution_count": 5,
   "id": "25ef0558",
   "metadata": {},
   "outputs": [
    {
     "name": "stdout",
     "output_type": "stream",
     "text": [
      "finfish\n"
     ]
    }
   ],
   "source": [
    "images_name_train = listdir(way_to_original_train)[2000: 3000]\n",
    "\n",
    "\n",
    "x_train = load_images(way_to_original_train, images_name_train)\n",
    "y_train = load_images(way_to_edited_train, images_name_train)\n",
    "print(\"finfish\")"
   ]
  },
  {
   "cell_type": "code",
   "execution_count": 6,
   "id": "486e2a58",
   "metadata": {},
   "outputs": [
    {
     "name": "stdout",
     "output_type": "stream",
     "text": [
      "1000 1000\n"
     ]
    }
   ],
   "source": [
    "print(len(x_train), len(y_train))"
   ]
  },
  {
   "cell_type": "code",
   "execution_count": null,
   "id": "3dee02cf",
   "metadata": {},
   "outputs": [
    {
     "name": "stdout",
     "output_type": "stream",
     "text": [
      "Epoch 1/2\n"
     ]
    }
   ],
   "source": [
    "his = model.fit(x_train, y_train, batch_size=100, epochs=2)"
   ]
  },
  {
   "cell_type": "code",
   "execution_count": null,
   "id": "49efc348",
   "metadata": {},
   "outputs": [],
   "source": [
    "model.save(\"model_u1.h5\")"
   ]
  }
 ],
 "metadata": {
  "kernelspec": {
   "display_name": "Python 3 (ipykernel)",
   "language": "python",
   "name": "python3"
  },
  "language_info": {
   "codemirror_mode": {
    "name": "ipython",
    "version": 3
   },
   "file_extension": ".py",
   "mimetype": "text/x-python",
   "name": "python",
   "nbconvert_exporter": "python",
   "pygments_lexer": "ipython3",
   "version": "3.9.0"
  }
 },
 "nbformat": 4,
 "nbformat_minor": 5
}
